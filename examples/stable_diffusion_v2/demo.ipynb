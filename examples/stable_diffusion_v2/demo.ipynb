{
 "cells": [
  {
   "cell_type": "markdown",
   "id": "6ce93080",
   "metadata": {},
   "source": [
    "# 1. Stable Diffusion 2.0\n",
    "\n",
    "## 1.1 Inference\n",
    "\n",
    "Step 1. Download the [SD2.0 checkpoint](https://download.mindspore.cn/toolkits/minddiffusion/stablediffusion/stablediffusionv2_512.ckpt) and put it under `models/` folder\n",
    "\n",
    "Step 2. Run `text_to_image.py` to generate images for the prompt of your interest."
   ]
  },
  {
   "cell_type": "code",
   "execution_count": null,
   "id": "009ad731",
   "metadata": {
    "scrolled": true
   },
   "outputs": [],
   "source": [
    "# Stable Diffusion 2.0 Inference\n",
    "!python text_to_image.py --prompt 'A cute wolf in winter forest'"
   ]
  },
  {
   "cell_type": "markdown",
   "id": "73598c3e",
   "metadata": {},
   "source": [
    "> Note: The SD2.0 checkpoint does NOT well support Chinese prompts. If you prefer to use Chinese prompts, please refer to Section 2.1."
   ]
  },
  {
   "cell_type": "code",
   "execution_count": null,
   "id": "196358e9",
   "metadata": {},
   "outputs": [],
   "source": [
    "# The generated images are saved in `output/samples` folder by default\n",
    "!ls output/samples"
   ]
  },
  {
   "cell_type": "code",
   "execution_count": null,
   "id": "6330e156",
   "metadata": {},
   "outputs": [],
   "source": [
    "# let's see what it makes\n",
    "import matplotlib.pyplot as plt\n",
    "import matplotlib.image as mpimg\n",
    "img = mpimg.imread('output/samples/00012.png')\n",
    "imgplot = plt.imshow(img)\n",
    "plt.show()"
   ]
  },
  {
   "cell_type": "markdown",
   "id": "d505b443",
   "metadata": {},
   "source": [
    "## 1.2 SD2.0 Finetune (Vanilla)\n",
    "\n",
    "Step 1. Download the [SD2.0 checkpoint](https://download.mindspore.cn/toolkits/minddiffusion/stablediffusion/stablediffusionv2_512.ckpt) and put it under `models/` folder\n",
    "\n",
    "Step 2. Prepare your image-text pair data (referring to README.md) and change `data_path` in `scripts/run_train_v2.sh` accordingly.\n",
    "\n",
    "Step 3. Run the training script as follows"
   ]
  },
  {
   "cell_type": "code",
   "execution_count": null,
   "id": "a0e5ce54",
   "metadata": {},
   "outputs": [],
   "source": [
    "# After preparing the checkpoint and image-text pair data, run the follow script to finetune SD2.0 on a single NPU\n",
    "\n",
    "!sh scripts/run_train_v2.sh"
   ]
  },
  {
   "cell_type": "markdown",
   "id": "b0dbaeb9",
   "metadata": {},
   "source": [
    "# 2. Stable Diffusion 1.x (Chinese)\n",
    "\n",
    "## 2.1 Inference\n",
    "\n",
    "Step 1. Download the [SD1.x checkpoint](https://download.mindspore.cn/toolkits/minddiffusion/wukong-huahua/wukong-huahua-ms.ckpt) (credit to WuKongHuaHua) and put it under `models/` folder\n",
    "\n",
    "Step 2. Run `text_to_image.py` to generate images for the prompt of your interest and specify the `-v` arg.\n"
   ]
  },
  {
   "cell_type": "code",
   "execution_count": null,
   "id": "b8fae7fd",
   "metadata": {
    "scrolled": true
   },
   "outputs": [],
   "source": [
    "# Stable Diffusion 1.x Inference \n",
    "!python text_to_image.py --prompt '雪中之狼' -v 1.x"
   ]
  },
  {
   "cell_type": "code",
   "execution_count": null,
   "id": "a8271dfa",
   "metadata": {
    "scrolled": true
   },
   "outputs": [],
   "source": [
    "# The generated images are saved in `output/samples` folder by default\n",
    "!ls output/samples"
   ]
  },
  {
   "cell_type": "code",
   "execution_count": null,
   "id": "42785a47",
   "metadata": {},
   "outputs": [],
   "source": [
    "img = mpimg.imread('output/samples/00030.png')\n",
    "imgplot = plt.imshow(img)\n",
    "plt.show()"
   ]
  },
  {
   "cell_type": "markdown",
   "id": "7c76079e",
   "metadata": {},
   "source": [
    "## 2.2 SD1.x Finetune (Vanilla)\n",
    "\n",
    "Step 1.Download the [SD1.x checkpoint](https://download.mindspore.cn/toolkits/minddiffusion/wukong-huahua/wukong-huahua-ms.ckpt) (credit to WuKongHuaHua) and put it under `models/` folder\n",
    "\n",
    "Step 2. Prepare your image-text pair data (referring to README.md) and change `data_path` in `scripts/run_train_v1.sh` accordingly.\n",
    "\n",
    "Step 3. Run the training script as follows"
   ]
  },
  {
   "cell_type": "code",
   "execution_count": null,
   "id": "6cbbb312",
   "metadata": {},
   "outputs": [],
   "source": [
    "# After preparing the checkpoint and image-text pair data, run the follow script to finetune SD2.0 on a single NPU\n",
    "\n",
    "!sh scripts/run_train_v1.sh"
   ]
  }
 ],
 "metadata": {
  "kernelspec": {
   "display_name": "ms20_py37",
   "language": "python",
   "name": "ms20_py37"
  },
  "language_info": {
   "codemirror_mode": {
    "name": "ipython",
    "version": 3
   },
   "file_extension": ".py",
   "mimetype": "text/x-python",
   "name": "python",
   "nbconvert_exporter": "python",
   "pygments_lexer": "ipython3",
   "version": "3.7.16"
  }
 },
 "nbformat": 4,
 "nbformat_minor": 5
}
